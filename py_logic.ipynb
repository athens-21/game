{
  "nbformat": 4,
  "nbformat_minor": 0,
  "metadata": {
    "colab": {
      "provenance": [],
      "authorship_tag": "ABX9TyPvPF9mTiM04FxM/ccNi8Cr",
      "include_colab_link": true
    },
    "kernelspec": {
      "name": "python3",
      "display_name": "Python 3"
    },
    "language_info": {
      "name": "python"
    }
  },
  "cells": [
    {
      "cell_type": "markdown",
      "metadata": {
        "id": "view-in-github",
        "colab_type": "text"
      },
      "source": [
        "<a href=\"https://colab.research.google.com/github/athens-21/game/blob/main/py_logic.ipynb\" target=\"_parent\"><img src=\"https://colab.research.google.com/assets/colab-badge.svg\" alt=\"Open In Colab\"/></a>"
      ]
    },
    {
      "source": [
        "import random\n",
        "\n",
        "def guess_the_number():\n",
        "    \"\"\"Plays a number-guessing game with the user.\"\"\"\n",
        "\n",
        "    secret_number = random.randint(1, 100)\n",
        "    guesses_left = 7\n",
        "\n",
        "    print(\"Welcome to the Number Guessing Game!\")\n",
        "    print(\"I'm thinking of a number between 1 and 100.\")\n",
        "\n",
        "    while guesses_left > 0:\n",
        "        print(f\"You have {guesses_left} guesses left.\")\n",
        "        try:\n",
        "            guess = int(input(\"Take a guess: \"))\n",
        "        except ValueError:\n",
        "            print(\"Invalid input. Please enter a number.\")\n",
        "            continue\n",
        "\n",
        "        if guess < secret_number:\n",
        "            print(\"Too low!\")\n",
        "        elif guess > secret_number:\n",
        "            print(\"Too high!\")\n",
        "        else:\n",
        "            print(f\"Congratulations! You guessed the number in {7 - guesses_left} tries.\")\n",
        "            return\n",
        "\n",
        "        guesses_left -= 1\n",
        "\n",
        "    print(f\"Sorry, you ran out of guesses. The number was {secret_number}.\")\n",
        "\n",
        "guess_the_number()"
      ],
      "cell_type": "code",
      "metadata": {
        "colab": {
          "base_uri": "https://localhost:8080/"
        },
        "id": "HG0JZafNb8kK",
        "outputId": "e1a075a1-4adb-4391-b425-5003282041ed"
      },
      "execution_count": 5,
      "outputs": [
        {
          "output_type": "stream",
          "name": "stdout",
          "text": [
            "Welcome to the Number Guessing Game!\n",
            "I'm thinking of a number between 1 and 100.\n",
            "You have 7 guesses left.\n",
            "Take a guess: 50\n",
            "Too high!\n",
            "You have 6 guesses left.\n",
            "Take a guess: 30\n",
            "Too high!\n",
            "You have 5 guesses left.\n",
            "Take a guess: 20\n",
            "Too high!\n",
            "You have 4 guesses left.\n",
            "Take a guess: 10\n",
            "Too low!\n",
            "You have 3 guesses left.\n",
            "Take a guess: 25\n",
            "Too high!\n",
            "You have 2 guesses left.\n",
            "Take a guess: 15\n",
            "Too low!\n",
            "You have 1 guesses left.\n",
            "Take a guess: 17\n",
            "Too high!\n",
            "Sorry, you ran out of guesses. The number was 16.\n"
          ]
        }
      ]
    }
  ]
}