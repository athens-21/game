{
  "nbformat": 4,
  "nbformat_minor": 0,
  "metadata": {
    "colab": {
      "provenance": [],
      "authorship_tag": "ABX9TyN7V5/SLBcpnUUubYBaBUhz",
      "include_colab_link": true
    },
    "kernelspec": {
      "name": "python3",
      "display_name": "Python 3"
    },
    "language_info": {
      "name": "python"
    }
  },
  "cells": [
    {
      "cell_type": "markdown",
      "metadata": {
        "id": "view-in-github",
        "colab_type": "text"
      },
      "source": [
        "<a href=\"https://colab.research.google.com/github/athens-21/game/blob/main/play.ipynb\" target=\"_parent\"><img src=\"https://colab.research.google.com/assets/colab-badge.svg\" alt=\"Open In Colab\"/></a>"
      ]
    },
    {
      "cell_type": "markdown",
      "source": [
        "**Dot Notation**"
      ],
      "metadata": {
        "id": "yei1U-vV3P7X"
      }
    },
    {
      "cell_type": "code",
      "source": [
        "import pandas as pd\n",
        "import numpy as np\n",
        "import matplotlib.pyplot as plt\n",
        "import os\n"
      ],
      "metadata": {
        "id": "qtZgd4jN5yEV"
      },
      "execution_count": 15,
      "outputs": []
    },
    {
      "cell_type": "code",
      "execution_count": 6,
      "metadata": {
        "colab": {
          "base_uri": "https://localhost:8080/"
        },
        "id": "TNadCtP3zC7v",
        "outputId": "1014dab5-a3ba-4183-f8d8-c408b367b611"
      },
      "outputs": [
        {
          "output_type": "stream",
          "name": "stdout",
          "text": [
            "Athens\n",
            "21\n"
          ]
        }
      ],
      "source": [
        "class Person:\n",
        "  def __init__(self, name, age):\n",
        "    self.name = name\n",
        "    self.age = age\n",
        "\n",
        "p1 = Person(\"Athens\", 21)\n",
        "\n",
        "print(p1.name)\n",
        "print(p1.age)"
      ]
    },
    {
      "cell_type": "markdown",
      "source": [
        "example real data"
      ],
      "metadata": {
        "id": "GjLmDto25F8y"
      }
    },
    {
      "cell_type": "code",
      "source": [
        "import kagglehub\n",
        "\n",
        "# Download latest version\n",
        "path = kagglehub.dataset_download(\"divyansh22/summer-olympics-medals\")\n",
        "\n",
        "print(\"Path to dataset files:\", path)"
      ],
      "metadata": {
        "colab": {
          "base_uri": "https://localhost:8080/"
        },
        "id": "DV_qUb6l5FlI",
        "outputId": "8aa1c593-ae26-46ec-b9b6-9afe406bc395"
      },
      "execution_count": 7,
      "outputs": [
        {
          "output_type": "stream",
          "name": "stdout",
          "text": [
            "Downloading from https://www.kaggle.com/api/v1/datasets/download/divyansh22/summer-olympics-medals?dataset_version_number=2...\n"
          ]
        },
        {
          "output_type": "stream",
          "name": "stderr",
          "text": [
            "100%|██████████| 219k/219k [00:00<00:00, 563kB/s]"
          ]
        },
        {
          "output_type": "stream",
          "name": "stdout",
          "text": [
            "Extracting files...\n",
            "Path to dataset files: /root/.cache/kagglehub/datasets/divyansh22/summer-olympics-medals/versions/2\n"
          ]
        },
        {
          "output_type": "stream",
          "name": "stderr",
          "text": [
            "\n"
          ]
        }
      ]
    },
    {
      "cell_type": "code",
      "source": [
        "# List files in the downloaded directory to find the correct filename\n",
        "print(\"Files in downloaded directory:\", os.listdir(path))"
      ],
      "metadata": {
        "colab": {
          "base_uri": "https://localhost:8080/"
        },
        "id": "7tZF9IYb691n",
        "outputId": "5cfbb33b-98d3-4bc1-ee3b-e6536df9f499"
      },
      "execution_count": 22,
      "outputs": [
        {
          "output_type": "stream",
          "name": "stdout",
          "text": [
            "Files in downloaded directory: ['Summer-Olympic-medals-1976-to-2008.csv']\n"
          ]
        }
      ]
    },
    {
      "cell_type": "code",
      "source": [
        "# Replace \"Summer-Olympic-medals-1976-2008.csv\" with the actual CSV filename you found\n",
        "csv_file = os.path.join(path, \"Summer-Olympic-medals-1976-2008.csv\")\n"
      ],
      "metadata": {
        "id": "efeYiTje5JnI"
      },
      "execution_count": 20,
      "outputs": []
    },
    {
      "cell_type": "code",
      "source": [
        "# prompt: create code to read this excel to know what in side\n",
        "\n",
        "# Replace 'your_excel_file.xlsx' with the actual path to your Excel file\n",
        "excel_file_path = csv_file\n",
        "\n",
        "# Read the Excel file into a pandas DataFrame\n",
        "try:\n",
        "  df_excel = pd.read_excel(excel_file_path)\n",
        "\n",
        "  # Print information about the DataFrame\n",
        "  print(\"Shape of the DataFrame (rows, columns):\", df_excel.shape)\n",
        "  print(\"\\nColumn names and their data types:\")\n",
        "  print(df_excel.info())\n",
        "  print(\"\\nFirst 5 rows of the DataFrame:\")\n",
        "  print(df_excel.head())\n",
        "  print(\"\\nBasic statistical summary of numerical columns:\")\n",
        "  print(df_excel.describe())\n",
        "\n",
        "except FileNotFoundError:\n",
        "  print(f\"Error: The file '{excel_file_path}' was not found.\")\n",
        "except Exception as e:\n",
        "  print(f\"An error occurred: {e}\")\n"
      ],
      "metadata": {
        "colab": {
          "base_uri": "https://localhost:8080/"
        },
        "id": "YCSRBU-V7T7P",
        "outputId": "b955aa18-59c8-45b4-a152-939d8abf78e5"
      },
      "execution_count": 27,
      "outputs": [
        {
          "output_type": "stream",
          "name": "stdout",
          "text": [
            "Error: The file '/kaggle/input/summer-olympics-medals/Summer-Olympic-medals-1976-2008.csv' was not found.\n"
          ]
        }
      ]
    }
  ]
}